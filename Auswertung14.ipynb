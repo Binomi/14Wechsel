{
 "metadata": {
  "name": "Auswertung14",
  "signature": "sha256:8124613e2d11f826ba7174aa3949c5ca6d3b2909414bbf8f8d0a6b1e1a2fc424"
 },
 "nbformat": 3,
 "nbformat_minor": 0,
 "worksheets": [
  {
   "cells": [
    {
     "cell_type": "code",
     "collapsed": false,
     "input": [
      "import maabara as ma"
     ],
     "language": "python",
     "metadata": {},
     "outputs": [],
     "prompt_number": 1
    },
    {
     "cell_type": "code",
     "collapsed": false,
     "input": [
      "omega=ma.Sheet(\"1/sqrt(C*L)\",\"\\\\omega\")\n",
      "omega.v(\"C\",1.799e-6,0.005e-6,\"C\")\n",
      "omega.v(\"L\",0.3861,0.001,\"L\")\n",
      "omega.p()"
     ],
     "language": "python",
     "metadata": {},
     "outputs": [
      {
       "latex": [
        "$$\\omega=\\frac{1}{\\sqrt{C \\cdot L}}$$"
       ],
       "output_type": "display_data",
       "text": [
        "<IPython.core.display.Math at 0x41a74d0>"
       ]
      },
      {
       "output_type": "stream",
       "stream": "stdout",
       "text": [
        "\\omega=\\frac{1}{\\sqrt{C \\cdot L}}\n",
        "\n"
       ]
      },
      {
       "latex": [
        "$$\\omega=1199.9 \\pm 2.3$$"
       ],
       "output_type": "display_data",
       "text": [
        "<IPython.core.display.Math at 0x41a74d0>"
       ]
      },
      {
       "output_type": "stream",
       "stream": "stdout",
       "text": [
        "\\omega=1199.9 \\pm 2.3\n",
        "\n"
       ]
      },
      {
       "latex": [
        "$$\\sigma_{\\omega}=\\frac{\\sqrt{\\frac{\\sigma_{L}^{2}}{L^{2}} + \\frac{\\sigma_{C}^{2}}{C^{2}}}}{2 \\cdot \\sqrt{C} \\cdot \\sqrt{L}}$$"
       ],
       "output_type": "display_data",
       "text": [
        "<IPython.core.display.Math at 0x41a74d0>"
       ]
      },
      {
       "output_type": "stream",
       "stream": "stdout",
       "text": [
        "\\sigma_{\\omega}=\\frac{\\sqrt{\\frac{\\sigma_{L}^{2}}{L^{2}} + \\frac{\\sigma_{C}^{2}}{C^{2}}}}{2 \\cdot \\sqrt{C} \\cdot \\sqrt{L}}\n",
        "\n"
       ]
      },
      {
       "output_type": "pyout",
       "prompt_number": 2,
       "text": [
        "1199.8708912393295+/-2.279181788553738"
       ]
      }
     ],
     "prompt_number": 2
    },
    {
     "cell_type": "code",
     "collapsed": false,
     "input": [
      "omega.v(\"C\",1.80413e-6,0.2331e-6,\"C\")\n",
      "omega.v(\"L\",0.385356, 0.04973,\"L\")\n",
      "omega.p()\n",
      "\n"
     ],
     "language": "python",
     "metadata": {},
     "outputs": [
      {
       "latex": [
        "$$\\omega=\\frac{1}{\\sqrt{C \\cdot L}}$$"
       ],
       "output_type": "display_data",
       "text": [
        "<IPython.core.display.Math at 0x2bf6410>"
       ]
      },
      {
       "output_type": "stream",
       "stream": "stdout",
       "text": [
        "\\omega=\\frac{1}{\\sqrt{C \\cdot L}}\n",
        "\n"
       ]
      },
      {
       "latex": [
        "$$\\omega=\\left(1.2 \\pm 0.1\\right) \\times 10^{3}$$"
       ],
       "output_type": "display_data",
       "text": [
        "<IPython.core.display.Math at 0x2bf6410>"
       ]
      },
      {
       "output_type": "stream",
       "stream": "stdout",
       "text": [
        "\\omega=\\left(1.2 \\pm 0.1\\right) \\times 10^{3}\n",
        "\n"
       ]
      },
      {
       "latex": [
        "$$\\sigma_{\\omega}=\\frac{\\sqrt{\\frac{\\sigma_{L}^{2}}{L^{2}} + \\frac{\\sigma_{C}^{2}}{C^{2}}}}{2 \\cdot \\sqrt{C} \\cdot \\sqrt{L}}$$"
       ],
       "output_type": "display_data",
       "text": [
        "<IPython.core.display.Math at 0x2bf6410>"
       ]
      },
      {
       "output_type": "stream",
       "stream": "stdout",
       "text": [
        "\\sigma_{\\omega}=\\frac{\\sqrt{\\frac{\\sigma_{L}^{2}}{L^{2}} + \\frac{\\sigma_{C}^{2}}{C^{2}}}}{2 \\cdot \\sqrt{C} \\cdot \\sqrt{L}}\n",
        "\n"
       ]
      },
      {
       "output_type": "pyout",
       "prompt_number": 3,
       "text": [
        "1199.3198539636708+/-109.50540846420209"
       ]
      }
     ],
     "prompt_number": 3
    },
    {
     "cell_type": "code",
     "collapsed": false,
     "input": [
      "phase=ma.Sheet(\"-b/m\")\n",
      "phase.v('m',6.65191,0.4607,'m')\n",
      "phase.v('b',-8.00685,0.5585,'b')\n",
      "phase.p()"
     ],
     "language": "python",
     "metadata": {},
     "outputs": [
      {
       "latex": [
        "$$- \\frac{b}{m}$$"
       ],
       "output_type": "display_data",
       "text": [
        "<IPython.core.display.Math at 0x41c3a50>"
       ]
      },
      {
       "output_type": "stream",
       "stream": "stdout",
       "text": [
        "- \\frac{b}{m}\n",
        "\n"
       ]
      },
      {
       "latex": [
        "$$1.2 \\pm 0.1$$"
       ],
       "output_type": "display_data",
       "text": [
        "<IPython.core.display.Math at 0x41c3a50>"
       ]
      },
      {
       "output_type": "stream",
       "stream": "stdout",
       "text": [
        "1.2 \\pm 0.1\n",
        "\n"
       ]
      },
      {
       "latex": [
        "$$\\frac{1}{m^{2}} \\cdot \\sqrt{b^{2} \\cdot \\sigma_{m}^{2} + m^{2} \\cdot \\sigma_{b}^{2}}$$"
       ],
       "output_type": "display_data",
       "text": [
        "<IPython.core.display.Math at 0x41c3a50>"
       ]
      },
      {
       "output_type": "stream",
       "stream": "stdout",
       "text": [
        "\\frac{1}{m^{2}} \\cdot \\sqrt{b^{2} \\cdot \\sigma_{m}^{2} + m^{2} \\cdot \\sigma_{b}^{2}}\n",
        "\n"
       ]
      },
      {
       "output_type": "pyout",
       "prompt_number": 4,
       "text": [
        "1.2036918719585803+/-0.11831845418668961"
       ]
      }
     ],
     "prompt_number": 4
    },
    {
     "cell_type": "heading",
     "level": 3,
     "metadata": {},
     "source": [
      "Parallelkreis"
     ]
    },
    {
     "cell_type": "code",
     "collapsed": false,
     "input": [
      "omega.v(\"C\",1.88e-6,0.05e-6,\"C\")\n",
      "omega.v(\"L\",0.370,0.01,\"L\")\n",
      "omega.p()"
     ],
     "language": "python",
     "metadata": {},
     "outputs": [
      {
       "latex": [
        "$$\\omega=\\frac{1}{\\sqrt{C \\cdot L}}$$"
       ],
       "output_type": "display_data",
       "text": [
        "<IPython.core.display.Math at 0x404d990>"
       ]
      },
      {
       "output_type": "stream",
       "stream": "stdout",
       "text": [
        "\\omega=\\frac{1}{\\sqrt{C \\cdot L}}\n",
        "\n"
       ]
      },
      {
       "latex": [
        "$$\\omega=\\left(1.20 \\pm 0.02\\right) \\times 10^{3}$$"
       ],
       "output_type": "display_data",
       "text": [
        "<IPython.core.display.Math at 0x404d990>"
       ]
      },
      {
       "output_type": "stream",
       "stream": "stdout",
       "text": [
        "\\omega=\\left(1.20 \\pm 0.02\\right) \\times 10^{3}\n",
        "\n"
       ]
      },
      {
       "latex": [
        "$$\\sigma_{\\omega}=\\frac{\\sqrt{\\frac{\\sigma_{L}^{2}}{L^{2}} + \\frac{\\sigma_{C}^{2}}{C^{2}}}}{2 \\cdot \\sqrt{C} \\cdot \\sqrt{L}}$$"
       ],
       "output_type": "display_data",
       "text": [
        "<IPython.core.display.Math at 0x404d990>"
       ]
      },
      {
       "output_type": "stream",
       "stream": "stdout",
       "text": [
        "\\sigma_{\\omega}=\\frac{\\sqrt{\\frac{\\sigma_{L}^{2}}{L^{2}} + \\frac{\\sigma_{C}^{2}}{C^{2}}}}{2 \\cdot \\sqrt{C} \\cdot \\sqrt{L}}\n",
        "\n"
       ]
      },
      {
       "output_type": "pyout",
       "prompt_number": 5,
       "text": [
        "1199.0028442779208+/-22.73204592244726"
       ]
      }
     ],
     "prompt_number": 5
    },
    {
     "cell_type": "code",
     "collapsed": false,
     "input": [],
     "language": "python",
     "metadata": {},
     "outputs": [],
     "prompt_number": 5
    }
   ],
   "metadata": {}
  }
 ]
}