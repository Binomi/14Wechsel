{
 "metadata": {
  "name": "Auswertung14"
 },
 "nbformat": 3,
 "nbformat_minor": 0,
 "worksheets": [
  {
   "cells": [
    {
     "cell_type": "code",
     "collapsed": false,
     "input": [
      "import maabara as ma"
     ],
     "language": "python",
     "metadata": {},
     "outputs": [],
     "prompt_number": 1
    },
    {
     "cell_type": "code",
     "collapsed": false,
     "input": [
      "omega=ma.Sheet(\"1/sqrt(C*L)\",\"\\\\omega\")\n",
      "omega.v(\"C\",1.799e-6,0.005e-6,\"C\")\n",
      "omega.v(\"L\",0.3861,0.001,\"L\")\n",
      "omega.p()"
     ],
     "language": "python",
     "metadata": {},
     "outputs": [
      {
       "latex": [
        "$$\\omega=\\frac{1}{\\sqrt{C \\cdot L}}$$"
       ],
       "output_type": "display_data",
       "text": [
        "<IPython.core.display.Math at 0x32825d0>"
       ]
      },
      {
       "output_type": "stream",
       "stream": "stdout",
       "text": [
        "\\omega=\\frac{1}{\\sqrt{C \\cdot L}}\n",
        "\n"
       ]
      },
      {
       "latex": [
        "$$\\omega=1199.9 \\pm 2.3$$"
       ],
       "output_type": "display_data",
       "text": [
        "<IPython.core.display.Math at 0x32825d0>"
       ]
      },
      {
       "output_type": "stream",
       "stream": "stdout",
       "text": [
        "\\omega=1199.9 \\pm 2.3\n",
        "\n"
       ]
      },
      {
       "latex": [
        "$$\\sigma_{\\omega}=\\frac{\\sqrt{\\frac{\\sigma_{L}^{2}}{L^{2}} + \\frac{\\sigma_{C}^{2}}{C^{2}}}}{2 \\cdot \\sqrt{C} \\cdot \\sqrt{L}}$$"
       ],
       "output_type": "display_data",
       "text": [
        "<IPython.core.display.Math at 0x32825d0>"
       ]
      },
      {
       "output_type": "stream",
       "stream": "stdout",
       "text": [
        "\\sigma_{\\omega}=\\frac{\\sqrt{\\frac{\\sigma_{L}^{2}}{L^{2}} + \\frac{\\sigma_{C}^{2}}{C^{2}}}}{2 \\cdot \\sqrt{C} \\cdot \\sqrt{L}}\n",
        "\n"
       ]
      },
      {
       "output_type": "pyout",
       "prompt_number": 2,
       "text": [
        "1199.8708912393295+/-2.279181788553738"
       ]
      }
     ],
     "prompt_number": 2
    },
    {
     "cell_type": "code",
     "collapsed": false,
     "input": [
      "phase=ma.Sheet(\"-b/m\")\n",
      "phase.v('m',6.65191,0.4607,'m')\n",
      "phase.v('b',-8.00685,0.5585,'b')\n",
      "phase.p()"
     ],
     "language": "python",
     "metadata": {},
     "outputs": [
      {
       "latex": [
        "$$- \\frac{b}{m}$$"
       ],
       "output_type": "display_data",
       "text": [
        "<IPython.core.display.Math at 0x32cc1d0>"
       ]
      },
      {
       "output_type": "stream",
       "stream": "stdout",
       "text": [
        "- \\frac{b}{m}\n",
        "\n"
       ]
      },
      {
       "latex": [
        "$$1.2 \\pm 0.1$$"
       ],
       "output_type": "display_data",
       "text": [
        "<IPython.core.display.Math at 0x32cc1d0>"
       ]
      },
      {
       "output_type": "stream",
       "stream": "stdout",
       "text": [
        "1.2 \\pm 0.1\n",
        "\n"
       ]
      },
      {
       "latex": [
        "$$\\frac{1}{m^{2}} \\cdot \\sqrt{b^{2} \\cdot \\sigma_{m}^{2} + m^{2} \\cdot \\sigma_{b}^{2}}$$"
       ],
       "output_type": "display_data",
       "text": [
        "<IPython.core.display.Math at 0x32cc1d0>"
       ]
      },
      {
       "output_type": "stream",
       "stream": "stdout",
       "text": [
        "\\frac{1}{m^{2}} \\cdot \\sqrt{b^{2} \\cdot \\sigma_{m}^{2} + m^{2} \\cdot \\sigma_{b}^{2}}\n",
        "\n"
       ]
      },
      {
       "output_type": "pyout",
       "prompt_number": 4,
       "text": [
        "1.2036918719585803+/-0.11831845418668961"
       ]
      }
     ],
     "prompt_number": 4
    },
    {
     "cell_type": "code",
     "collapsed": false,
     "input": [],
     "language": "python",
     "metadata": {},
     "outputs": []
    }
   ],
   "metadata": {}
  }
 ]
}